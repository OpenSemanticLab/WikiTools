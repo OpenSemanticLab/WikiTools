{
  "cells": [
    {
      "cell_type": "code",
      "execution_count": 1,
      "metadata": {
        "trusted": true
      },
      "outputs": [],
      "source": [
        "import micropip\n",
        "await micropip.install(\"anywidget\")"
      ]
    },
    {
      "cell_type": "code",
      "execution_count": 2,
      "metadata": {
        "trusted": true
      },
      "outputs": [
        {
          "data": {
            "application/vnd.jupyter.widget-view+json": {
              "model_id": "b9802213861f4f0299d07fdadd27c24e",
              "version_major": 2,
              "version_minor": 1
            },
            "text/plain": [
              "CounterWidget(value=42)"
            ]
          },
          "execution_count": 2,
          "metadata": {},
          "output_type": "execute_result"
        }
      ],
      "source": [
        "import anywidget\n",
        "import traitlets\n",
        "\n",
        "class CounterWidget(anywidget.AnyWidget):\n",
        "    _esm = \"\"\"\n",
        "    function render({ model, el }) {\n",
        "      let button = document.createElement(\"button\");\n",
        "      button.innerHTML = `count is ${model.get(\"value\")}`;\n",
        "      button.addEventListener(\"click\", () => {\n",
        "        model.set(\"value\", model.get(\"value\") + 1);\n",
        "        model.save_changes();\n",
        "      });\n",
        "      model.on(\"change:value\", () => {\n",
        "        button.innerHTML = `count is ${model.get(\"value\")}`;\n",
        "      });\n",
        "      el.classList.add(\"counter-widget\");\n",
        "      el.appendChild(button);\n",
        "    }\n",
        "    export default { render };\n",
        "    \"\"\"\n",
        "    _css = \"\"\"\n",
        "    .counter-widget button { color: white; font-size: 1.75rem; background-color: #ea580c; padding: 0.5rem 1rem; border: none; border-radius: 0.25rem; }\n",
        "    .counter-widget button:hover { background-color: #9a3412; }\n",
        "    \"\"\"\n",
        "    value = traitlets.Int(0).tag(sync=True)\n",
        "\n",
        "CounterWidget(value=42)"
      ]
    },
    {
      "cell_type": "code",
      "execution_count": 11,
      "metadata": {
        "trusted": true
      },
      "outputs": [
        {
          "name": "stdout",
          "output_type": "stream",
          "text": [
            "old None\n",
            "{}\n"
          ]
        },
        {
          "data": {
            "application/vnd.jupyter.widget-view+json": {
              "model_id": "a5b1ca7c4da24b3fafff61e09134fd7c",
              "version_major": 2,
              "version_minor": 1
            },
            "text/plain": [
              "JsonEditorWidget()"
            ]
          },
          "execution_count": 11,
          "metadata": {},
          "output_type": "execute_result"
        },
        {
          "name": "stdout",
          "output_type": "stream",
          "text": [
            "old {}\n",
            "{'test': ''}\n"
          ]
        }
      ],
      "source": [
        "import anywidget\n",
        "import traitlets\n",
        "\n",
        "\n",
        "class JsonEditorWidget(anywidget.AnyWidget):\n",
        "    _esm = \"\"\"\n",
        "import {JSONEditor} from \"https://esm.sh/@json-editor/json-editor@latest\"\n",
        "\n",
        "export function render({ model, el }) {\n",
        "  /*const button = document.createElement('button')\n",
        "  button.addEventListener('click', () => confetti())\n",
        "  button.append('Click me!')\n",
        "  return button*/\n",
        "\n",
        "  const e = document.createElement('div')\n",
        "  var editor = new JSONEditor(e, {\n",
        "    theme: 'bootstrap4',\n",
        "    //iconlib: 'fontawesome4',\n",
        "    //theme: 'tailwind',\n",
        "    //iconlib: 'spectre',\n",
        "    schema: {\"required\": [\"test\"], \"properties\": {\"test\": {\"type\": \"string\"}}},\n",
        "    startval: this.data\n",
        "    });\n",
        "  console.warn(this.editor)\n",
        "  editor.on('change' , () => {\n",
        "      console.log(editor.getValue());\n",
        "      model.set(\"value\", editor.getValue())\n",
        "      model.save_changes();\n",
        "  })\n",
        "  model.on(\"change:value\", () => {\n",
        "      editor.setValue(model.get(\"value\"));\n",
        "  });\n",
        "  el.append(e);\n",
        "  }\n",
        "    \"\"\"\n",
        "    #_css =  'https://cdn.jsdelivr.net/npm/bootstrap@4.6.1/dist/css/bootstrap.min.css'\n",
        "    value = traitlets.Dict({}).tag(sync=True)\n",
        "    @traitlets.observe(\"value\")\n",
        "    def _observe_value(self, change):\n",
        "        print(\"old\", change[\"old\"])\n",
        "        print(change[\"new\"])\n",
        "\n",
        "editor = JsonEditorWidget(value={})\n",
        "editor"
      ]
    },
    {
      "cell_type": "code",
      "execution_count": 1,
      "metadata": {},
      "outputs": [
        {
          "name": "stdout",
          "output_type": "stream",
          "text": [
            "None\n",
            "{}\n"
          ]
        },
        {
          "data": {
            "application/vnd.jupyter.widget-view+json": {
              "model_id": "ed9e6ea4b5b542bfbe05cb8b1dde3159",
              "version_major": 2,
              "version_minor": 1
            },
            "text/plain": [
              "JsonEditorWidget()"
            ]
          },
          "execution_count": 1,
          "metadata": {},
          "output_type": "execute_result"
        },
        {
          "name": "stdout",
          "output_type": "stream",
          "text": [
            "{}\n",
            "{'test': ''}\n",
            "{'test': ''}\n",
            "{'test': 'test'}\n"
          ]
        }
      ],
      "source": [
        "import os\n",
        "from pathlib import Path\n",
        "import anywidget\n",
        "import traitlets\n",
        "import ipywidgets\n",
        "from osw.ui.anywidget.jsoneditor import JsonEditorWidget\n",
        "\n",
        "\n",
        "editor = JsonEditorWidget(value={})\n",
        "\n",
        "# log the value of `my_value` any time it changes\n",
        "output = ipywidgets.Output()\n",
        "@output.capture()\n",
        "def handle_change(change):\n",
        "    \"\"\"Prints new value to `output` widget\"\"\"\n",
        "    #print(change.new)\n",
        "editor.observe(handle_change, names=[\"value\"])\n",
        "\n",
        "\n",
        "editor"
      ]
    },
    {
      "cell_type": "code",
      "execution_count": 7,
      "metadata": {
        "trusted": true
      },
      "outputs": [
        {
          "data": {
            "text/plain": [
              "{'test': 'test'}"
            ]
          },
          "execution_count": 7,
          "metadata": {},
          "output_type": "execute_result"
        }
      ],
      "source": [
        "editor.value"
      ]
    },
    {
      "cell_type": "code",
      "execution_count": 5,
      "metadata": {
        "trusted": true
      },
      "outputs": [
        {
          "name": "stdout",
          "output_type": "stream",
          "text": [
            "None\n",
            "{}\n"
          ]
        },
        {
          "data": {
            "application/vnd.jupyter.widget-view+json": {
              "model_id": "2ca5e9d33e6647c29b63c1c339b1c678",
              "version_major": 2,
              "version_minor": 1
            },
            "text/plain": [
              "JsonEditorWidget()"
            ]
          },
          "execution_count": 5,
          "metadata": {},
          "output_type": "execute_result"
        }
      ],
      "source": [
        "# see https://github.com/microsoft/vscode-jupyter/wiki/IPyWidget-Support-in-VS-Code-Python\n",
        "# \"jupyter.widgetScriptSources\": [\"jsdelivr.com\", \"unpkg.com\"],\n",
        "\n",
        "import anywidget\n",
        "import traitlets\n",
        "import ipywidgets\n",
        "\n",
        "class JsonEditorWidget(anywidget.AnyWidget, traitlets.HasTraits):\n",
        "    _esm = \"jsoneditor.mjs\"\n",
        "    #_css =  'https://cdn.jsdelivr.net/npm/bootstrap@5/dist/css/bootstrap.min.css'\n",
        "\n",
        "    value = traitlets.Dict({}).tag(sync=True)\n",
        "    @traitlets.observe(\"value\")\n",
        "    def _observe_value(self, change):\n",
        "        print(change[\"old\"])\n",
        "        print(change[\"new\"])\n",
        "\n",
        "editor = JsonEditorWidget(value={}, height=500)\n",
        "\n",
        "# log the value of `my_value` any time it changes\n",
        "output = ipywidgets.Output()\n",
        "@output.capture()\n",
        "def handle_change(change):\n",
        "    \"\"\"Prints new value to `output` widget\"\"\"\n",
        "    print(change.new)\n",
        "editor.observe(handle_change, names=[\"value\"])\n",
        "\n",
        "\n",
        "editor"
      ]
    },
    {
      "cell_type": "code",
      "execution_count": 4,
      "metadata": {
        "trusted": true
      },
      "outputs": [
        {
          "data": {
            "application/vnd.jupyter.widget-view+json": {
              "model_id": "b4aa7916da0245c0beedf45f8211a89e",
              "version_major": 2,
              "version_minor": 1
            },
            "text/plain": [
              "ExampleWidget()"
            ]
          },
          "execution_count": 4,
          "metadata": {},
          "output_type": "execute_result"
        }
      ],
      "source": [
        "import anywidget\n",
        "import traitlets\n",
        "\n",
        "class ExampleWidget(anywidget.AnyWidget):\n",
        "    _esm = \"\"\"\n",
        "    export function render({ model, el }) {\n",
        "        el.classList.add(\"custom-widget\");\n",
        "        function valueChanged() {\n",
        "            el.textContent = model.get(\"value\");\n",
        "        }\n",
        "        valueChanged();\n",
        "        model.on(\"change:value\", valueChanged);\n",
        "    }\n",
        "    \"\"\"\n",
        "    _css = \"\"\"\n",
        "    .custom-widget {\n",
        "        background-color: lightseagreen;\n",
        "        padding: 0px 2px;\n",
        "    }\n",
        "    \"\"\"\n",
        "    value = traitlets.Unicode(\"Hello World\").tag(sync=True)\n",
        "\n",
        "ExampleWidget()"
      ]
    },
    {
      "cell_type": "code",
      "execution_count": null,
      "metadata": {
        "trusted": true
      },
      "outputs": [],
      "source": []
    }
  ],
  "metadata": {
    "kernelspec": {
      "display_name": ".venv",
      "language": "python",
      "name": "python3"
    },
    "language_info": {
      "codemirror_mode": {
        "name": "ipython",
        "version": 3
      },
      "file_extension": ".py",
      "mimetype": "text/x-python",
      "name": "python",
      "nbconvert_exporter": "python",
      "pygments_lexer": "ipython3",
      "version": "3.11.9"
    }
  },
  "nbformat": 4,
  "nbformat_minor": 4
}
