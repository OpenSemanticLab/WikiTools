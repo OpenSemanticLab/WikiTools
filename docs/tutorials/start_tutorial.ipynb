{
 "cells": [
  {
   "metadata": {},
   "cell_type": "markdown",
   "source": [
    "# Tutorial: Start Tutorial\n",
    "\n",
    "This notebook will help you to setup everything you need to run [Tutorial: Basics](./basics_tutorial.ipynb).\n",
    "\n",
    "To start open this notebook in [Google Colab](https://colab.research.google.com/github/OpenSemanticLab/osw-python/blob/enh-tutorial/docs/tutorials/start_tutorial.ipynb) or a similar Jupyter\n",
    "web service and run the cells below."
   ],
   "id": "3daf975fa49d95e1"
  },
  {
   "metadata": {},
   "cell_type": "code",
   "source": "# todo: google colab link and git clone commands need to be updated before merging the PR",
   "id": "8c9d009ae8472e18",
   "outputs": [],
   "execution_count": null
  },
  {
   "metadata": {},
   "cell_type": "code",
   "source": [
    "# Clone the repository and install the package with the tutorial dependencies\n",
    "!git clone https://github.com/OpenSemanticLab/osw-python.git\n",
    "%cd osw-python\n",
    "!git fetch origin\n",
    "!git checkout -b enh-tutorial origin/enh-tutorial\n",
    "!pip install -e .[tutorial]"
   ],
   "id": "da4be67ad7e115c3",
   "outputs": [],
   "execution_count": null
  },
  {
   "metadata": {},
   "cell_type": "code",
   "source": [
    "# Print current working directory\n",
    "!pwd"
   ],
   "id": "f6beb7a048fed691",
   "outputs": [],
   "execution_count": null
  },
  {
   "metadata": {},
   "cell_type": "code",
   "source": [
    "# (Might not be required:) Make sure you are in osw-python/docs/tutorials directory\n",
    "%cd osw-python/docs/tutorials\n",
    "!pwd"
   ],
   "id": "3397cbdfd4b47653",
   "outputs": [],
   "execution_count": null
  },
  {
   "metadata": {},
   "cell_type": "markdown",
   "source": [
    "## Open the tutorial\n",
    "[Tutorial: Basics](./basics.ipynb)"
   ],
   "id": "c8e2f6168ee0e08"
  }
 ],
 "metadata": {
  "kernelspec": {
   "display_name": "Python 3",
   "language": "python",
   "name": "python3"
  },
  "language_info": {
   "codemirror_mode": {
    "name": "ipython",
    "version": 2
   },
   "file_extension": ".py",
   "mimetype": "text/x-python",
   "name": "python",
   "nbconvert_exporter": "python",
   "pygments_lexer": "ipython2",
   "version": "2.7.6"
  }
 },
 "nbformat": 4,
 "nbformat_minor": 5
}
