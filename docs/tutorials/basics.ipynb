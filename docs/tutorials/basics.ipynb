{
 "cells": [
  {
   "cell_type": "markdown",
   "id": "47f7c6ba83e22f59",
   "metadata": {},
   "source": [
    "# Tutorial: Basics\n",
    "\n",
    "This tutorial will cover the basics and prerequisites, required to use the osw-python library in Python and to \n",
    "interact with an [Open Semantic Lab (OSL)](https://github.com/OpenSemanticLab) instance, like the [OpenSemanticWorld \n",
    "Registry](https://opensemantic.world/). To do this tutorial interactively, jump to [Downloading the library](#Downloading-the-library-optional) and open this notebook in a Jupyter environment.\n",
    "\n",
    "- [OSL data model](#OSL-data-model)\n",
    "- [Downloading the library (optional)](#Downloading-the-library-optional)\n",
    "- [Installation](#Installation)\n",
    "- [Connecting to an OSL instance](#Connecting-to-an-OSL-instance)\n",
    "- [Downloading data model dependencies](#Downloading-data-model-dependencies)\n",
    "- [Interact with an entity](#Interact-with-an-entity) \n",
    "- [Interact with files](#Interact-with-files)\n",
    "- [Interface data sources](#Interface-data-sources)"
   ]
  },
  {
   "cell_type": "markdown",
   "id": "64e0121de7a40c80",
   "metadata": {},
   "source": [
    "## OSL data model\n",
    "\n",
    "Open Semantic Lab provides an [extension](https://github.com/OpenSemanticLab/mediawiki-extensions-OpenSemanticLab) \n",
    "for Semantic Mediawiki, delivering a machine-readable data structure based on industry standards, like JSON, JSON-LD,\n",
    " JSON-Schema. It allows to import, reference and interface existing (OWL, RDF) ontologies and aims to facilitate the \n",
    " implementation of [FAIR Data principles](https://www.go-fair.org/fair-principles/) out-of-the-box.\n",
    "\n",
    "<figure>\n",
    "    <a href=\"https://opensemantic.world/wiki/File:OSW95a74be1e22d4b6e9e4f836127d5915a.drawio.svg\">\n",
    "    <img src=\"./img/osw_intro_technology_stack.png\" \n",
    "        width=\"400\" \n",
    "        height=\"200\"\n",
    "        alt=\"Components of the OSL extension for  Semantic Mediawiki\">\n",
    "</figure>\n",
    "\n",
    "JSON serves as the central data storage element for structured data, including the definition of classes and forms\n",
    " via JSON-Schema, linking JSON-Data to ontologies and building property graphs.\n",
    "\n",
    "### Namespaces\n",
    "\n",
    "As we are using Semantic Mediawiki, the data is stored in pages, which are organized in namespaces. Full page titles \n",
    "follow this structure: `<namespace>:<page_title>`. While the `<page_title>` can contain `:`, it is rarely found. The \n",
    "most important namespaces in OSL and stored entries are:\n",
    "\n",
    "- Category - Classes (instances of MetaClasses) and MetaClasses\n",
    "- Item - Instances of classes\n",
    "- Property - Semantic properties and reusable property schemas\n",
    "- JsonSchema - Reusable JSON-Schema definitions\n",
    "- Template - Templates for rendering pages or performing queries\n",
    "\n",
    "### Slots\n",
    "\n",
    "The data stored on a page in Semantic Mediawiki can be stored as plain text (main slot, content model: wikitext) or in\n",
    " an arbitrary format in dedicated slots. In OSL, we go with nine slots, tailored to the needs of a data scientist, \n",
    " around the JSON format. The most important slots are `jsondata` and `jsonschema`, which store the data and the schema:\n",
    "\n",
    "| Slot name       | Content model | Description                                                                                                         |\n",
    "|-----------------|---------------|---------------------------------------------------------------------------------------------------------------------|\n",
    "| main            | wikitext      | Default content slot, rendered between the header and footer of the page                                            |\n",
    "| jsondata        | JSON          | Structured data, (partially) used to render the infobox on the page                                                 |\n",
    "| jsonschema      | JSON          | stored within a category (=class) page, defining the schema for the jsondata slot of any category member (instance) |\n",
    "| header          | wikitext      | Content to be placed at the top of the page, below the heading                                                      |\n",
    "| footer          | wikitext      | Content to be placed at the bottom of the page, above the (Semantic Mediawiki) built-in elements                    |\n",
    "| header_template | wikitext      | Stored within a category (=class) page, renders the page header of any category member (instance)                   |\n",
    "| footer_template | wikitext      | stored within a category (=class) page, renders the page footer of any category member (instance)                   |\n",
    "    \n",
    "This data structure can be used to generate Python data classes, which can be used to interact with the data in a type-safe manner. The osw-python library includes a [code generator](https://github.com/koxudaxi/datamodel-code-generator/) to generate Python data classes from the JSON schema. \n",
    "\n",
    "At the same time, this data structure can be used to auto-generate form editors, create property graphs, and provide \n",
    "data and interfaces for applications, such as Machine Learning and data processing.\n",
    "\n",
    "### Data Classes / Class Hierarchy\n",
    "\n",
    "Everything is considered an 'Entity', which is analogous to the 'object' in Python. 'Classes' are subclasses and \n",
    "instances of 'Entity' or specific 'MetaClasses'. 'MetaClasses' define a JSON schema used to validate the structured \n",
    "data stored in the jsondata slot of 'Classes', just as 'Classes' do for individual 'Instances' or 'Items'.\n",
    "\n",
    "<figure>\n",
    "    <a href=\"https://opensemantic.world/wiki/File:OSW96280227805c4e4a8fcf615359b01672.drawio.svg\">\n",
    "    <img src=\"./img/osw_intro_data_model.png\" \n",
    "        width=\"600\" \n",
    "        height=\"300\"\n",
    "        alt=\"OSL data model\">\n",
    "</figure>"
   ]
  },
  {
   "cell_type": "markdown",
   "id": "6bef0569b5824ea0",
   "metadata": {},
   "source": [
    "### JSON / JSON-Schema\n",
    "\n",
    "The JSON schema stored in the `jsonschema` slot of a Category (=class) defines the structure of the data stored in \n",
    "the `jsondata` slot of members of this category (=items). The JSON schema is a JSON object that defines the \n",
    "properties and their types, constraints, and relationships. The JSON schema can be generated from the data stored \n",
    "in the `jsondata` slot of the category (=class) or can be created manually. We are using the \n",
    "[JSON-Schema](https://json-schema.org/) standard to define the schema. \n",
    "\n",
    "Through their ensured consistency, JSON can be used to generate Python data classes and instances, which can be used \n",
    "as parameter objects for functions and methods. The generated classes are based on Pydantic models, which provide validation and serialization capabilities.\n",
    "\n",
    "#### JSON-Schema to Python Data Classes\n",
    "\n",
    "**Category:MyCategory `jsonschema` slot:**\n",
    "```json\n",
    "{\n",
    "    \"type\": \"object\",\n",
    "    \"properties\": {\n",
    "        \"text\": { \"type\": \"string\" },\n",
    "        \"number\": { \"type\": \"number\" },\n",
    "        \"array\": { \"type\": \"array\" }\n",
    "    }\n",
    "}\n",
    "```\n",
    "**Category:MySubCategory `jsonschema` slot:**\n",
    "```json\n",
    "{\n",
    "    \"type\": \"object\",\n",
    "    \"allOf\": \"/wiki/Category:MyCategory?action=raw&slot=jsonschema\",\n",
    "    \"properties\": {\n",
    "        \"additional_property\": { \"type\": \"string\" }\n",
    "    }\n",
    "}\n",
    "```\n",
    "**Generated Python data classes:**\n",
    "```python\n",
    "from osw.model.entity import Entity\n",
    "\n",
    "class MyClass(Entity):\n",
    "    text: str\n",
    "    number: float\n",
    "    array: List[Any]\n",
    "    \n",
    "class MySubClass(MyClass):\n",
    "    additional_property: str\n",
    "```\n",
    "\n",
    "#### Python instance to JSON data\n",
    "\n",
    "```python\n",
    "from osw.express import OswExpress\n",
    "\n",
    "osw_obj = OswExpress(domain=\"wiki-dev.open-semantic-lab.org\")\n",
    "\n",
    "my_instance = MySubClass(\n",
    "    text=\"some text\",\n",
    "    number=1.1,\n",
    "    array=[1, \"two\", 3.0],\n",
    "    additional_property = \"test2\",\n",
    ")\n",
    "my_instance.json()\n",
    "my_instance = osw_obj.store_entity(my_instance)  # wiki upload\n",
    "```\n",
    "\n",
    "### Object Oriented Linked Data (OO-LD)\n",
    "\n",
    "The example above [JSON / JSON Schema](#JSON-/-JSON-Schema) already showed the integration of Object-Oriented \n",
    "Programming (OOP) into JSON and JSON Schema. Adding the linked data component of [JSON-LD](https://json-ld.org/) \n",
    "enables the reusable annotation of datasets with well established vocabularies (ontologies), such as [schema.org] \n",
    "(https://schema.org/). Annotation have to be made at Category (=class) level only, and are available on export of \n",
    "instances. This makes the datasets machine-readable, allows for the integration of the data into the \n",
    "[Semantic Web](https://en.wikipedia.org/wiki/Semantic_Web) and the creation of property graphs. \n",
    "\n",
    "#### A minimal example:\n",
    "```json\n",
    "{\n",
    "  \"@context\": {\n",
    "    \"schema\": \"https://schema.org/\",\n",
    "    \"name\": \"schema:name\"\n",
    "  },\n",
    "  \"title\": \"Person\",\n",
    "  \"type\": \"object\",\n",
    "  \"properties\": {\n",
    "    \"name\": {\n",
    "      \"type\": \"string\",\n",
    "      \"description\": \"First and Last name\"\n",
    "    }\n",
    "  }\n",
    "}\n",
    "```\n",
    "\n",
    "### Further reading\n",
    "\n",
    "- [OSW Introduction](https://opensemantic.world/wiki/Item:OSWdb485a954a88465287b341d2897a84d6)\n",
    "- [OSW Python Package](https://opensemantic.world/wiki/Item:OSW659a81662ff44af1b2b6febeee7c3a25)\n",
    "- [JSON Tutorial](https://opensemantic.world/wiki/Item:OSWf1df064239044b8fa3c968339fb93344)\n",
    "- [JSON-Schema Tutorial](https://opensemantic.world/wiki/Item:OSWf4a9514baed04859a4c6c374a7312f10)\n",
    "- [JSON-LD Tutorial](https://opensemantic.world/wiki/Item:OSW911488771ea449a6a34051f8213d7f2f)\n",
    "- [OO-LD Tutorial](https://opensemantic.world/wiki/Item:OSWee501c0fa6a9407d99c058b5ff9d55b4)"
   ]
  },
  {
   "cell_type": "markdown",
   "id": "6e259e4f34e709ea",
   "metadata": {},
   "source": [
    "## Downloading the library (optional)\n",
    "\n",
    "The osw-python library is available as GitHub repository and can be downloaded as a ZIP file or via git:\n",
    "\n",
    "```bash\n",
    "git clone https://github.com/OpenSemanticLab/osw-python.git <target_directory>\n",
    "```\n",
    "\n",
    "## Installation\n",
    "\n",
    "### From PyPI\n",
    "\n",
    "Preferably, you can install the library from the Python Package Index (PyPI) via pip, which is recommended for most users:\n",
    "\n",
    "```bash\n",
    "conda activate <your_environment>  # optional\n",
    "pip install osw-python\n",
    "```\n",
    "\n",
    "### From source\n",
    "\n",
    "If you want to install the library from source, you can clone the repository and install it via pip. The option `-e`\n",
    " installs the package in editable mode, which means that the source code is linked to the installed package. This is \n",
    " useful for development and testing.\n",
    "\n",
    "```bash\n",
    "git clone https://github.com/OpenSemanticLab/osw-python.git <target_directory>\n",
    "cd <target_directory>\n",
    "conda activate <your_environment>  # optional\n",
    "pip install [-e] .\n",
    "```"
   ]
  },
  {
   "cell_type": "markdown",
   "id": "c089a8c6224ff1be",
   "metadata": {},
   "source": [
    "## Connecting to an OSL instance\n",
    "\n",
    "To connect to an OSL instance, you need to provide your login credentials. You can either provide your username and \n",
    "password directly or create a bot password. The bot is preferred because its edit rights can be restricted and at the \n",
    "same time, edits made programmatically are traceable, being marked as bot edits.\n",
    "\n",
    "### Creating a bot password\n",
    "\n",
    "- Log in to your OSL instance\n",
    "- Navigate to **Special:BotPasswords**, via **Toggle menu → Special pages → Bot passwords**,\n",
    "    e.g., `https://<wiki_domain>/wiki/Special:BotPasswords`, \n",
    "- You must log in again to verify your identity\n",
    "- Create a new bot password by providing a `Bot name`, e.g., 'PythoBot' and click **Create**\n",
    "- Save the `Username` and `Bot password` in a safe place, as the password will not be displayed again\n",
    "\n",
    "### (Optional) Creating a credentials file\n",
    "\n",
    "You can create a YAML file, e.g., 'credentials.pwd.yaml', with your login credentials, which can be used to connect to the OSL instance. The file must follow the structure below:\n",
    "\n",
    "```yaml\n",
    " <wiki_domain>:\n",
    "     username: <wiki_username>\n",
    "     password: <wiki_password>\n",
    "```\n",
    "\n",
    "### Connecting via osw-python\n",
    "\n",
    "It is recommended to use the `osw.express.OswExpress` class to connect to an OSL instance. The class provides a \n",
    "number of convenience functions ontop of the underlying `osw.core.OSW`. \n",
    "\n",
    "On the first execution of the following cell you will be prompted to enter domain, username and password. The \n",
    "credentials will be stored in a file named **credentials.pwd.yaml** in a subfolder **osw_files** of the current working \n",
    "directory. In the current working directory, a **.gitignore** file will be created or updated to include the \n",
    "credentials file. \n",
    "\n",
    "This step is required to download all dependencies (data models) of OswExpress from the OSL instance."
   ]
  },
  {
   "cell_type": "code",
   "id": "162b6208a105bbde",
   "metadata": {},
   "source": "from osw.express import OSW, OswExpress",
   "outputs": [],
   "execution_count": null
  },
  {
   "metadata": {},
   "cell_type": "code",
   "source": [
    "# Define the wiki_domain for later reuse:\n",
    "wiki_domain = \"wiki-dev.open-semantic-lab.org\"  # Replace with the domain of your OSL instance"
   ],
   "id": "509040ca218924ed",
   "outputs": [],
   "execution_count": null
  },
  {
   "metadata": {},
   "cell_type": "markdown",
   "source": [
    "#### Option 1: Reuse the credentials file created in the previous step\n",
    "\n",
    "If you are still running in the same CWD, OswExpress will automatically find the credentials file.\n",
    "\n",
    "Else you will be prompted to enter your username and password."
   ],
   "id": "4728ef9d8456dc26"
  },
  {
   "cell_type": "code",
   "id": "54f082d780c3dd79",
   "metadata": {},
   "source": "osw_obj = OswExpress(domain=wiki_domain)  ",
   "outputs": [],
   "execution_count": null
  },
  {
   "cell_type": "markdown",
   "id": "c735e2f5c4f55c05",
   "metadata": {},
   "source": [
    "#### Option 2: Provide a credentials file (path)\n",
    "\n",
    "If the file does not exist or the domain is not in the file, you will be prompted to enter your username and password.\n",
    "Unknown domains will be appended to the file."
   ]
  },
  {
   "cell_type": "code",
   "id": "24810957b39bfd3a",
   "metadata": {},
   "source": "osw_obj = OswExpress(domain=wiki_domain, cred_filepath=\"credentials.pwd.yaml\")",
   "outputs": [],
   "execution_count": null
  },
  {
   "cell_type": "markdown",
   "id": "9022d39338ed267f",
   "metadata": {},
   "source": [
    "## Downloading data model dependencies\n",
    "\n",
    "Loading entities from OSL fetches required data models by default. So if you just want to load, modify and upload one\n",
    " (type of) entity, you can scip to [Downloading an entity](#Downloading-an-entity).\n",
    "\n",
    "Before we can upload entities or files, we need to download the required data models. The data models are stored in the \n",
    "`jsonschema` slot of the respective categories (=classes) and are used to generate Python data classes. OswExpress \n",
    "offers a convenience function to download all dependencies of a given category, that an item is an instance of. \n",
    "\n",
    "> [!NOTE]\n",
    "> It is important to execute this notebook with the same environment, where the data models are installed to!"
   ]
  },
  {
   "cell_type": "markdown",
   "id": "537cdcc821e4803e",
   "metadata": {},
   "source": [
    "### Identify required data models\n",
    "\n",
    "All categories (=classes) are subcategories of the **Entity** category. The classes **Entity**, **Item** and concepts \n",
    "required to provide typing for those classes are provided out-of-the-box within `osw.model.entity`, which imports \n",
    "**OswBasemodel(pydantic.BaseModel)** from `osw.model.static`.\n",
    "\n",
    "To store structured information in an OSL instance, you need to find a fitting **Category**, to create pages \n",
    "(in the **Item** or **Category** namespace) in. To explore the data model hierarchy, you can use the graph tool \n",
    "provided under **Graph** on  every  page in the `Category` or `Item` namespace, following the `SubClassOf` property. \n",
    "\n",
    "A good alternativ is to consult the **Category tree** page and navigate through the collapsible tree. The page can \n",
    "be found under \n",
    "`https://<wiki_domain>/wiki/Special:CategoryTree?target=Category%3AEntity&mode=categories&namespaces=`. \n",
    "\n",
    "Save the `Machine compatible name` and `Full page title` of the category you want to work with in a dictionary. Note \n",
    "that only the category, the farthest down a branch, with respect to the root category **Entity**, is required. All \n",
    "other categories will be downloaded automatically.\n",
    "\n",
    "**Example category tree**:\n",
    "```\n",
    "Entity\n",
    "├── Property\n",
    "├── Statement\n",
    "└── Item\n",
    "    ├── Person\n",
    "    |   └── User\n",
    "    ├── Location\n",
    "    |   ├── Site\n",
    "    |   ├── Building\n",
    "    |   ├── Floor\n",
    "    |   └── Room\n",
    "    ├── CreativeWork\n",
    "    |   └── Article\n",
    "    |       └── Tutorial\n",
    "    └── OrganizationalUnit\n",
    "        └── Organization\n",
    "```\n",
    "\n",
    "> [!NOTE]\n",
    "> If you find no category, ask your administrator to install page packages via the special page 'Special:Packages'. \n",
    "> Page packages are maintained via [GitHub](https://github.com/OpenSemanticWorld-Packages/osw-package-maintenance)"
   ]
  },
  {
   "cell_type": "code",
   "id": "7381372e09b55c7a",
   "metadata": {},
   "source": [
    "dependencies = {\n",
    "    \"Organization\": \"Category:OSW1969007d5acf40539642877659a02c23\",  # Will fetch: Organization, OrganizationalUnit\n",
    "    \"Person\":       \"Category:OSWd9aa0bca9b0040d8af6f5c091bf9eec7\",  # Will fetch: Person\n",
    "    \"Room\":         \"Category:OSWc5ed0ed1e33c4b31887c67af25a610c1\",  # Will fetch: Room, Location, but not: Site, Building, Floor\n",
    "    \"Tutorial\":     \"Category:OSW494f660e6a714a1a9681c517bbb975da\",  # Will fetch: Tutorial, Article, CreativeWork\n",
    "}"
   ],
   "outputs": [],
   "execution_count": null
  },
  {
   "cell_type": "markdown",
   "id": "da879e15b57f0c3e",
   "metadata": {},
   "source": [
    "> [!NOTE]\n",
    "> Keys in this dictionary will eventually be used in the import statements, should therefore fit the auto generated \n",
    "> class names, which are the same as the category's `Machine compatible name`!"
   ]
  },
  {
   "cell_type": "markdown",
   "id": "7a8684bb1b8779fd",
   "metadata": {},
   "source": [
    "### Install data models\n",
    "\n",
    "Data models (data classes generated in osw.model.entity) can not be imported in Python scripts and modules prior to \n",
    "installation. Therefore, it is recommended to do this step either in a separate script, which is run before the main\n",
    "script, or in the main script itself, before the import statements.\n",
    "\n",
    "#### Option 1: Install dependencies before import from osw.model.entity \n",
    "\n",
    "This option is recommended to put in a separate script, which is run before the main script."
   ]
  },
  {
   "cell_type": "code",
   "id": "39260a2e792deb47",
   "metadata": {},
   "source": [
    "# Will run everytime the script is executed:\n",
    "osw_obj.install_dependencies(dependencies)\n",
    "\n",
    "\n",
    "# Static code checker will note 'Module not found' before the installation:\n",
    "from osw.model.entity import Organization, Person, Room, Tutorial"
   ],
   "outputs": [],
   "execution_count": null
  },
  {
   "cell_type": "markdown",
   "id": "eb01d61d5c5586ee",
   "metadata": {},
   "source": [
    "#### Option 2: Use OswExpress comfort function  for imports\n",
    "\n",
    "This option is recommended to put in the main script, before the first `from osw.model.entity import` statement."
   ]
  },
  {
   "cell_type": "code",
   "id": "a7c8b1233c5817b3",
   "metadata": {},
   "source": [
    "from typing import TYPE_CHECKING\n",
    "from osw.express import import_with_fallback\n",
    "\n",
    "\n",
    "# Will fetch and install dependencies only if not already installed:\n",
    "import_with_fallback(dependencies)\n",
    "\n",
    "\n",
    "# Otherwise static code checker will note 'Module not found' before the installation:\n",
    "if TYPE_CHECKING:\n",
    "    from osw.model.entity import Organization, Person, Room, Tutorial"
   ],
   "outputs": [],
   "execution_count": null
  },
  {
   "cell_type": "markdown",
   "id": "40dc1839eeb1e503",
   "metadata": {},
   "source": [
    "### Interact with an entity\n",
    "\n",
    "Data classes created by the code generator are based on Pydantic models, which provide validation and serialization.\n",
    "\n",
    "#### Creating an entity\n",
    "\n",
    "To create an entity, you need to create an instance of the respective data class. The `__init__` method of the data \n",
    "class expects keyword arguments for all fields. As per usual for Pydantic models, positional arguments are not \n",
    "permitted and the input data is validated during initialization."
   ]
  },
  {
   "cell_type": "code",
   "id": "fb10f35fd3927b6a",
   "metadata": {},
   "source": [
    "# Create a person\n",
    "john = Person(\n",
    "    first_name=\"John\",\n",
    "    last_name=\"Doe\",\n",
    "    email=\"john.doe@example.com\"\n",
    ")\n",
    "# Should return two ValidationErrors:\n",
    "# - surname: field required\n",
    "# - email: value is not a valid set"
   ],
   "outputs": [],
   "execution_count": null
  },
  {
   "cell_type": "markdown",
   "id": "2beecba33c4647ce",
   "metadata": {},
   "source": [
    "Lets breakdown what happened here\n",
    "\n",
    "- During initialization, the Pydantic model validates the input data. The validation errors are raised as exceptions.\n",
    "- The `surname` field is required, but it was not provided.\n",
    "- The extra field `last_name` was provided, but it was not expected. By default, Pydantic models disregard extra \n",
    "fields without warning.\n",
    "- The `email` field is expected to be a list of strings, but a string was provided. "
   ]
  },
  {
   "cell_type": "code",
   "id": "eaaf78110e18c493",
   "metadata": {},
   "source": [
    "# Should run without validation errors\n",
    "john = Person(\n",
    "    first_name=\"John\",\n",
    "    surname=\"Doe\",\n",
    "    email=[\"john.doe@example.com\"],\n",
    ")"
   ],
   "outputs": [],
   "execution_count": null
  },
  {
   "cell_type": "markdown",
   "id": "9aa534b206d8b486",
   "metadata": {},
   "source": [
    "Before storing the entity in the OSL instance, lets check at which full page title it will be stored. \n",
    "The full page title is derived from the `uuid` and the `namespace` of the entity."
   ]
  },
  {
   "cell_type": "code",
   "id": "d861fde54918bc05",
   "metadata": {},
   "source": [
    "from osw.utils.wiki import get_namespace, get_osw_id, get_full_title\n",
    "\n",
    "print(\"Namespace:\", get_namespace(john))\n",
    "print(\"UUID:\", john.uuid)\n",
    "print(\"OSW-ID:\", get_osw_id(john.uuid))\n",
    "print(\"Full title:\", get_full_title(john))"
   ],
   "outputs": [],
   "execution_count": null
  },
  {
   "cell_type": "markdown",
   "id": "f6dace23bf99c7f3",
   "metadata": {},
   "source": [
    "#### Storing an entity\n",
    "\n",
    "We can now store this entity in the OSL instance. The `store_entity` method uploads the entity to the OSL instance. "
   ]
  },
  {
   "cell_type": "code",
   "id": "64e0678b77f00772",
   "metadata": {},
   "source": [
    "osw_obj.store_entity(john)\n",
    "# In this specific case equivalent to:\n",
    "params = OswExpress.StoreEntityParam(\n",
    "    entities=[john],\n",
    "    namespace=get_namespace(john),\n",
    "    parallel=False,\n",
    "    overwrite=\"keep existing\",\n",
    "    overwrite_per_class=None,\n",
    ")  # All default values included\n",
    "# osw_obj.store_entity(params)"
   ],
   "outputs": [],
   "execution_count": null
  },
  {
   "cell_type": "markdown",
   "id": "78f959815e0fe8f",
   "metadata": {},
   "source": [
    "Like most methods and functions in the osw-python library, the `store_entity` takes only a single argument. Usually \n",
    "either a specific object type or a dedicated params object is accepted. If an object of type other than the params \n",
    "object is passed, it is usually tested for compatibility and put inside a params object, filling the other parameters \n",
    "with default values. \n",
    "\n",
    "This ensures that the method signature is as simple as possible and at the same time allows full typing and validation \n",
    "of input parameters that the method is easy to use. "
   ]
  },
  {
   "cell_type": "markdown",
   "id": "639db64348bbd905",
   "metadata": {},
   "source": [
    "#### Downloading an entity\n",
    "\n",
    "To download an entity, you need to provide the full page title of the entity. The `download_entity` method downloads the\n",
    "entity from the OSL instance and returns an instance of the respective data class. If the respective data class is \n",
    "not already part of `osw.model.entity`, the data class is generated on-the-fly by default."
   ]
  },
  {
   "cell_type": "code",
   "id": "ea1da2ff6d96808a",
   "metadata": {},
   "source": [
    "john2 = osw_obj.load_entity(get_full_title(john))"
   ],
   "outputs": [],
   "execution_count": null
  },
  {
   "cell_type": "markdown",
   "id": "fe620279252b6886",
   "metadata": {},
   "source": [
    "Lets have a look at the attributes of the downloaded entity"
   ]
  },
  {
   "cell_type": "code",
   "id": "19d1c6767b2098b",
   "metadata": {},
   "source": [
    "from pprint import pprint\n",
    "pprint(john2.dict())"
   ],
   "outputs": [],
   "execution_count": null
  },
  {
   "cell_type": "markdown",
   "id": "2ab58db05b3b004b",
   "metadata": {},
   "source": [
    "Besides the attributes that we set (first_name, surname, email), the downloaded entity has additional attributes, \n",
    "that are generated by default, either when the entity is initialized (uuid, meta.wiki_page.title) or loaded (None \n",
    "valued attributes). \n",
    "\n",
    "Loading an entity from the OSL instance downloads the full `jsondata` slot and pass it to the \n",
    "`__init__` method of the respective data class. Thereby, attributes not present in the `jsondata` slot are set to the\n",
    " default value of the data class."
   ]
  },
  {
   "cell_type": "markdown",
   "id": "d140b974b54155ce",
   "metadata": {},
   "source": [
    "#### Modifying an entity\n",
    "\n",
    "To modify an entity, you can change the attributes of the entity instance. The attributes can be accessed and modified \n",
    "like any other attribute of a Python object."
   ]
  },
  {
   "cell_type": "code",
   "id": "c0511efb825acf10",
   "metadata": {},
   "source": [
    "# Adding a new attribute\n",
    "john2.middle_name = \"R.\"\n",
    "# Changing an existing attribute \n",
    "john2.email = {\"john.doe@gmx.de\"}\n",
    "\n",
    "# Checking the made changes:\n",
    "pprint(john2.dict())"
   ],
   "outputs": [],
   "execution_count": null
  },
  {
   "cell_type": "markdown",
   "id": "f42c1600ed17a059",
   "metadata": {},
   "source": [
    "#### Storing an altered entity\n",
    "\n",
    "Here the same applies as for [Storing an entity](#Storing-an-entity). BUT: overwriting entities is not possible with \n",
    "default settings \"keep existing\". Therefore, you need to call the method `store_entity` passing a StoreEntityParam with \n",
    "the attribute `overwrite` set to \"overwrite\".\n"
   ]
  },
  {
   "metadata": {},
   "cell_type": "code",
   "source": [
    "# Option 1: Overwrite all entities\n",
    "osw_obj.store_entity(OSW.StoreEntityParam(entities=[john2], overwrite=True))"
   ],
   "id": "77b507f13be1235b",
   "outputs": [],
   "execution_count": null
  },
  {
   "metadata": {},
   "cell_type": "code",
   "source": [
    "# Option 2: Overwrite only entities of type Person\n",
    "osw_obj.store_entity(OSW.StoreEntityParam(\n",
    "    entities=[john2], overwrite_per_class=[OSW.OverwriteClassParam(model=Person, overwrite=True)]))"
   ],
   "id": "19d4d48e95e0fe82",
   "outputs": [],
   "execution_count": null
  },
  {
   "metadata": {},
   "cell_type": "code",
   "source": [
    "# Option 3: Overwrite only the email attribute of entities of type Person\n",
    "osw_obj.store_entity(OSW.StoreEntityParam(\n",
    "    entities=[john2], overwrite_per_class=[\n",
    "        OSW.OverwriteClassParam(model=Person, overwrite=False,per_property={\"email\": True})]))"
   ],
   "id": "4fc037a10f95356a",
   "outputs": [],
   "execution_count": null
  },
  {
   "metadata": {},
   "cell_type": "markdown",
   "source": [
    "Here all three options will have the same result, but in many cases the result will differ, especially if you have \n",
    "entities of different classes in the list of entities to store.\n",
    "\n",
    "The param `overwrite` is applied to all entities handed to the method regardless of type / class. It is also possible\n",
    " to specify the overwrite behavior per class, by providing a list of `OSW.OverwriteClassParam`s. Those can even be \n",
    " specific down to the property level. \n",
    "- Available options for `OSW.StoreEntitParam.overwrite`, `OSW.OverwriteClassParam.overwrite` (per class) and `OSW\n",
    ".OverwriteClassParam.per_property` are: \n",
    "    - `OSW.OverwriteOptions.true`: True - overwrite the remote entity or property with the local one\n",
    "    - `OSW.OverwriteOptions.false`: False - do not overwrite the remote entity or property with the local one\n",
    "    - `OSW.OverwriteOptions.only_empty`: \"only empty\" - overwrite the remote entity or property with the local one, \n",
    "      if the remote entity or property is empty\n",
    "- Only available to `OSW.StoreEntitParam.overwrite` and `OSW.OverwriteClassParam.overwrite` (per class) are:\n",
    "    - `OSW.AddOverwriteClassOptions.replace_remote`: \"replace remote\" - replace the remote entity with the local one and\n",
    "      removes all properties not present in the local entity\n",
    "    - `OSW.AddOverwriteClassOptions.keep_existing`: \"keep existing\" - keep the remote entity, if one exists under this \n",
    "      OSW-ID   "
   ],
   "id": "133a7c6940f23ae6"
  },
  {
   "metadata": {},
   "cell_type": "markdown",
   "source": [
    "### Interact with files \n",
    "\n",
    "#### Download a file\n",
    "\n",
    "Let's say you have already uploaded a file to the instance of OSL you are connected to and have the URL to the file \n",
    "available. (Execute the Upload a file section to upload a file to the OSL instance.) You can download the file with \n",
    "just two lines:\n"
   ],
   "id": "2dc425de23d5e2ce"
  },
  {
   "metadata": {},
   "cell_type": "code",
   "source": [
    "from osw.express import osw_download_file\n",
    "local_file = osw_download_file(\n",
    "    \"https://wiki-dev.open-semantic-lab.org/wiki/File:OSWaa635a571dfb4aa682e43b98937f5dd3.pdf\"\n",
    "    # , use_cached=True  # Can be used to download the file only once, e.g., when developing code\n",
    "    # , overwrite=True  # Can be used to avoid overwriting an existing file\n",
    ")"
   ],
   "id": "9188d8aac00ef04",
   "outputs": [],
   "execution_count": null
  },
  {
   "metadata": {},
   "cell_type": "markdown",
   "source": [
    "The object `local_file` is an instance of `OswExpress.DownloadFileResult` and contains the path to the downloaded file, \n",
    "which is accessible via:"
   ],
   "id": "59162da197057ee8"
  },
  {
   "metadata": {},
   "cell_type": "markdown",
   "source": [
    "The class `OswExpress.DownloadFileResult` implements all dunder methods required for a context manager. Therefore, it\n",
    " can be used with the `with` statement to ensure the file is closed properly after use:"
   ],
   "id": "5215e1b89b4ba89f"
  },
  {
   "metadata": {},
   "cell_type": "code",
   "source": [
    "with osw_download_file(\n",
    "        \"https://wiki-dev.open-semantic-lab.org/wiki/File:OSWac9224e1a280449dba71d945b1581d57.txt\", overwrite=True\n",
    ") as file:\n",
    "    print(file.read())"
   ],
   "id": "ff674c1413ca6b4b",
   "outputs": [],
   "execution_count": null
  },
  {
   "metadata": {},
   "cell_type": "markdown",
   "source": [
    "#### Round-Robin\n",
    "\n",
    "Let's create a file, upload it to the OSL instance, download it and read and alter its content, before uploading it \n",
    "again.\n"
   ],
   "id": "418b47e58febe97d"
  },
  {
   "metadata": {},
   "cell_type": "code",
   "source": [
    "from pathlib import Path\n",
    "from osw.express import osw_upload_file, osw_download_file\n",
    "\n",
    "# Create a file\n",
    "fp = Path(\"example.txt\")\n",
    "with open(fp, \"w\") as file:\n",
    "    file.write(\"Hello, World!\")\n",
    "# Upload a file to an OSW instance\n",
    "wiki_file = osw_upload_file(fp, domain=wiki_domain)\n",
    "# Delete the local file\n",
    "fp.unlink()\n",
    "\n",
    "# Download the file\n",
    "local_file = osw_download_file(wiki_file.url, mode=\"r+\")  # mode=\"r+\" to read and write\n",
    "\n",
    "with local_file as file:\n",
    "    content = file.read()\n",
    "    print(\"Original content:\")\n",
    "    print(content)\n",
    "    content = content.replace(\"World\", \"OSW\")\n",
    "    print(\"\\nModified content:\")\n",
    "    print(content)\n",
    "    # Write the modified content back to the file\n",
    "    file.write(content)\n",
    "\n",
    "# Upload the modified file\n",
    "modified_wiki_file = osw_upload_file(local_file)"
   ],
   "id": "14a0ee12dde2961e",
   "outputs": [],
   "execution_count": null
  },
  {
   "metadata": {},
   "cell_type": "code",
   "source": [
    "# Delete WikiFile from OSW instance after you are done with it\n",
    "wiki_file.delete()"
   ],
   "id": "9647b490f90d2a0d",
   "outputs": [],
   "execution_count": null
  },
  {
   "metadata": {},
   "cell_type": "markdown",
   "source": [
    "### Interface data sources\n",
    "\n",
    "#### Tabular data: Excel, CSV and others\n",
    "\n",
    "Let's create a demo table and save it to an Excel file.   "
   ],
   "id": "2095cc63bd256a2c"
  },
  {
   "metadata": {},
   "cell_type": "code",
   "source": [
    "import pandas as pd\n",
    "\n",
    "df = pd.DataFrame(\n",
    "    {\n",
    "        \"FirstName\": [\"John\", \"Jane\", \"Alice\"],\n",
    "        \"LastName\": [\"Doe\", \"Do\", \"Dont\"],\n",
    "        \"Email\": [\"john.doe@example.com\", \"jane.do@example.com\", \"alice.dont@example.com\"],\n",
    "    }\n",
    ")\n",
    "df.to_excel(\"demo.xlsx\", index=False)\n",
    "del df"
   ],
   "id": "64154efbfd92f87",
   "outputs": [],
   "execution_count": null
  },
  {
   "metadata": {},
   "cell_type": "code",
   "source": [
    "from pprint import pprint\n",
    "# Let's read in our example Excel file\n",
    "data_df = pd.read_excel(\"demo.xlsx\")\n",
    "# Pandas dict representation is optimal for converting to JSON\n",
    "# Let's have a look at the first row\n",
    "john_dict = data_df.iloc[0].to_dict()\n",
    "pprint(john_dict)"
   ],
   "id": "ed6cd2984e10baca",
   "outputs": [],
   "execution_count": null
  },
  {
   "metadata": {},
   "cell_type": "code",
   "source": [
    "# Let's convert the dict to a Person instance\n",
    "from osw.model.entity import Person\n",
    "john = Person(**john_dict)\n",
    "# This will cause ValidationError(s):\n",
    "# - first_name: field required\n",
    "# - surname: field required"
   ],
   "id": "840449d1e08ea7f2",
   "outputs": [],
   "execution_count": null
  },
  {
   "metadata": {},
   "cell_type": "markdown",
   "source": [
    "Explanation: This is due to the dictionary unpacking operator `**`, which passes the dictionary keys as keyword\n",
    "arguments to the `Person` class. The `first_name` and `surname` fields are required, but they are not present in the\n",
    "dictionary. \n",
    "\n",
    "We have several options to resolve this issue:\n",
    "- Replace the dictionary keys with fitting ones\n",
    "    - By renaming the columns in the DataFrame before converting it to a dictionary\n",
    "    - By providing a mapping dictionary and replacing the keys in the dictionary, using the following function:\n",
    "      ```python\n",
    "      def replace_keys(d, key_map):    \n",
    "        return {key_map.get(k, k): v for k, v in d.items()}\n",
    "      ```\n",
    "- Create a HelperClass, which inherits from the target data class and `osw.data.import_utility.HelperModel`, and \n",
    "  implements a transformation function to create the target data class instance from the dictionary "
   ],
   "id": "de2cd483287d86a9"
  },
  {
   "metadata": {},
   "cell_type": "markdown",
   "source": [
    "##### Option 1: Rename columns in the DataFrame\n",
    "\n",
    "This option is very simple and will serve you well for cases of low complexity, where the datatypes in the DataFrame \n",
    "columns already match the datatypes of the target data class."
   ],
   "id": "d98830f43fd2a405"
  },
  {
   "metadata": {},
   "cell_type": "code",
   "source": [
    "# Let's print out the columns first\n",
    "print(data_df.columns)"
   ],
   "id": "88760a60e93fc99e",
   "outputs": [],
   "execution_count": null
  },
  {
   "metadata": {},
   "cell_type": "code",
   "source": [
    "# Let's create the mapping dictionary and rename the columns\n",
    "mapping = {\n",
    "    \"FirstName\": \"first_name\",\n",
    "    \"LastName\": \"surname\",\n",
    "    \"Email\": \"email\"\n",
    "}\n",
    "data_df.rename(columns=mapping, inplace=True)\n",
    "# Let's have a look at the first row\n",
    "john_dict = data_df.iloc[0].to_dict()\n",
    "print(john_dict)"
   ],
   "id": "90f7efe362d1fd52",
   "outputs": [],
   "execution_count": null
  },
  {
   "metadata": {},
   "cell_type": "code",
   "source": [
    "# Let's construct an instance of the Person data model\n",
    "john = Person(**john_dict)\n",
    "# This will cause a ValidationError:\n",
    "# - email: value is not a valid set"
   ],
   "id": "469e3f2514a16e50",
   "outputs": [],
   "execution_count": null
  },
  {
   "metadata": {},
   "cell_type": "code",
   "source": [
    "# Let's correct the email field\n",
    "john_dict[\"email\"] = [john_dict[\"email\"]]\n",
    "john = Person(**john_dict)\n",
    "pprint(john.dict())"
   ],
   "id": "9e5c3bc9ff17b2e4",
   "outputs": [],
   "execution_count": null
  },
  {
   "metadata": {},
   "cell_type": "markdown",
   "source": [
    "##### Option 2: Create a HelperModel and a transformation function\n",
    "\n",
    "This approach will be able to treat even cases of high complexity, where the datatypes in the DataFrame columns do not \n",
    "match the datatypes of the target data class or where references to other instances in a dataset have to be made. \n",
    "\n",
    "[!NOTE] Property and variable names in Python must not contain spaces, so the column names in the DataFrame have \n",
    "to be transformed accordingly."
   ],
   "id": "7401bbbb658bc631"
  },
  {
   "metadata": {},
   "cell_type": "code",
   "source": [
    "from typing import Any\n",
    "from osw.data.import_utility import HelperModel\n",
    "\n",
    "class PersonHelper(Person, HelperModel):\n",
    "    # Attributes of the first base class are set to Optional[Any], default: None\n",
    "    FirstName: Any\n",
    "    LastName: Any\n",
    "    Email: Any\n",
    "    \n",
    "    def transform_attributes(self, dd: dict = None) -> bool:\n",
    "        super().transform_attributes()\n",
    "        self.first_name = self.FirstName\n",
    "        self.surname = self.LastName\n",
    "        self.email = {self.Email}\n",
    "        return True\n",
    "\n",
    "# Let's create a new instance of the PersonHelper class\n",
    "data_df = pd.read_excel(\"demo.xlsx\")\n",
    "john_dict = data_df.iloc[0].to_dict()\n",
    "john_helper = PersonHelper(**john_dict)\n",
    "print(\"Before transformation:\")\n",
    "pprint(john_helper.dict())"
   ],
   "id": "ee7efd2374c3f87e",
   "outputs": [],
   "execution_count": null
  },
  {
   "metadata": {},
   "cell_type": "code",
   "source": [
    "# Let's see the effect of the transformation\n",
    "john_helper.transform_attributes()\n",
    "print(\"After transformation:\")\n",
    "pprint(john_helper.dict())"
   ],
   "id": "872b9e65d606d544",
   "outputs": [],
   "execution_count": null
  },
  {
   "metadata": {},
   "cell_type": "code",
   "source": [
    "# Actually we access 'transformed' directly\n",
    "# If the transformation operations had not been performed already,\n",
    "#  accessing 'transformed' would trigger them\n",
    "john = john_helper.transformed\n",
    "print(\"After casting:\")\n",
    "pprint(john.dict())"
   ],
   "id": "2ff76f2a76c097f6",
   "outputs": [],
   "execution_count": null
  },
  {
   "metadata": {},
   "cell_type": "code",
   "source": [
    "# We can do the same for all instances quite easily:\n",
    "entities = []\n",
    "for ii in data_df.index:\n",
    "    entities.append(PersonHelper(**data_df.iloc[ii].to_dict()).transformed)"
   ],
   "id": "30e0620c9ef49fdf",
   "outputs": [],
   "execution_count": null
  },
  {
   "metadata": {},
   "cell_type": "code",
   "source": [
    "# And store the entities in the OSL instance\n",
    "osw_obj.store_entity(entities)"
   ],
   "id": "15f2596aff7ac2e0",
   "outputs": [],
   "execution_count": null
  }
 ],
 "metadata": {
  "kernelspec": {
   "display_name": "Python 3 (ipykernel)",
   "language": "python",
   "name": "python3"
  },
  "language_info": {
   "codemirror_mode": {
    "name": "ipython",
    "version": 3
   },
   "file_extension": ".py",
   "mimetype": "text/x-python",
   "name": "python",
   "nbconvert_exporter": "python",
   "pygments_lexer": "ipython3",
   "version": "3.12.4"
  }
 },
 "nbformat": 4,
 "nbformat_minor": 5
}
